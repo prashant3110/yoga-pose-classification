{
 "cells": [
  {
   "cell_type": "code",
   "execution_count": null,
   "metadata": {
    "_cell_guid": "b1076dfc-b9ad-4769-8c92-a6c4dae69d19",
    "_uuid": "8f2839f25d086af736a60e9eeb907d3b93b6e0e5",
    "execution": {
     "iopub.execute_input": "2021-06-11T06:41:11.303287Z",
     "iopub.status.busy": "2021-06-11T06:41:11.302928Z",
     "iopub.status.idle": "2021-06-11T06:41:11.309096Z",
     "shell.execute_reply": "2021-06-11T06:41:11.308309Z",
     "shell.execute_reply.started": "2021-06-11T06:41:11.303256Z"
    },
    "id": "C10NEwZeVuOm"
   },
   "outputs": [],
   "source": [
    "import cv2\n",
    "import numpy as np \n",
    "import pandas as pd \n",
    "import tensorflow as tf\n",
    "import matplotlib.pyplot as plt\n",
    "from tensorflow.keras.preprocessing.image import ImageDataGenerator"
   ]
  },
  {
   "cell_type": "markdown",
   "metadata": {
    "id": "RrSyLMKTVbx9"
   },
   "source": [
    "# **Resizing the image**\n",
    "\n",
    "Conventionally, when dealing with images of different sizes in CNN(which happens very often in real world problems), we resize the images to the size of the smallest images with the help of any image manipulation library (OpenCV, PIL etc) or some times, pad the images of unequal size to desired size. Resizing the image is simpler and is used most often"
   ]
  },
  {
   "cell_type": "code",
   "execution_count": null,
   "metadata": {
    "execution": {
     "iopub.execute_input": "2021-06-11T06:41:12.300454Z",
     "iopub.status.busy": "2021-06-11T06:41:12.300126Z",
     "iopub.status.idle": "2021-06-11T06:41:12.481689Z",
     "shell.execute_reply": "2021-06-11T06:41:12.480726Z",
     "shell.execute_reply.started": "2021-06-11T06:41:12.300427Z"
    },
    "id": "wY6wKaI2VuOr",
    "outputId": "00516b73-043b-4837-b343-60cfd9add2a5"
   },
   "outputs": [
    {
     "data": {
      "text/plain": [
       "<matplotlib.image.AxesImage at 0x7f07cae51610>"
      ]
     },
     "execution_count": 27,
     "metadata": {
      "tags": []
     },
     "output_type": "execute_result"
    },
    {
     "data": {
      "image/png": "[encoded data removed]",
      "text/plain": [
       "<Figure size 432x288 with 1 Axes>"
      ]
     },
     "metadata": {
      "needs_background": "light",
      "tags": []
     },
     "output_type": "display_data"
    }
   ],
   "source": [
    "image = cv2.imread('DATASET/TEST/tree/00000003.jpg')\n",
    "\n",
    "image = cv2.resize(image,(150,150))\n",
    "\n",
    "image = np.array(image)\n",
    "\n",
    "plt.imshow(image)"
   ]
  },
  {
   "cell_type": "markdown",
   "metadata": {
    "id": "BW58BYRQTbQd"
   },
   "source": [
    "# **ImageDataGenerator class**\n",
    "\n",
    "\n",
    "The ImageDataGenerator class is very useful in image classification. There are several ways to use this generator, depending on the method we use, here we will focus on flow_from_directory takes a path to the directory containing images sorted in sub directories and image augmentation parameters.\n",
    "\n",
    "The ImageDataGenerator is an easy way to load and augment images in batches for image classification tasks\n",
    "\n",
    "The dataset is divided into train and test subdirectories, with 5 sub folders in each directory corresponding to the 5 classes of yoga poses. The images are extracted from bing using their API functionality so they may not be very accurate (watermarks, text may exist)\n"
   ]
  },
  {
   "cell_type": "code",
   "execution_count": null,
   "metadata": {
    "execution": {
     "iopub.execute_input": "2021-06-11T07:35:12.436993Z",
     "iopub.status.busy": "2021-06-11T07:35:12.436652Z",
     "iopub.status.idle": "2021-06-11T07:35:12.659589Z",
     "shell.execute_reply": "2021-06-11T07:35:12.658815Z",
     "shell.execute_reply.started": "2021-06-11T07:35:12.436945Z"
    },
    "id": "ConP1KNRVuOu",
    "outputId": "6e49a246-7c63-437e-cb5d-da161ff79a3a"
   },
   "outputs": [
    {
     "name": "stdout",
     "output_type": "stream",
     "text": [
      "Found 1081 images belonging to 5 classes.\n",
      "Found 470 images belonging to 5 classes.\n"
     ]
    }
   ],
   "source": [
    "# source directory for training images\n",
    "train_dir = 'DATASET/TRAIN'\n",
    "\n",
    "# source directory for validation images\n",
    "validation_dir  = 'DATASET/TEST'\n",
    "\n",
    "train_datagen = ImageDataGenerator(\n",
    "      rescale=1./255,\n",
    "      width_shift_range=0.2,\n",
    "      height_shift_range=0.2,\n",
    "      zoom_range=0.2,\n",
    "      horizontal_flip=True,\n",
    "      fill_mode='nearest')\n",
    "\n",
    "test_datagen = ImageDataGenerator(rescale=1./255)\n",
    "\n",
    "\n",
    "train_generator = train_datagen.flow_from_directory(\n",
    "        train_dir,  \n",
    "        target_size=(150, 150),  # All images will be resized to 150x150\n",
    "        batch_size=20,\n",
    "        class_mode='categorical')\n",
    "\n",
    "\n",
    "validation_generator = test_datagen.flow_from_directory(\n",
    "        validation_dir,\n",
    "        target_size=(150, 150), # All images will be resized to 150x150\n",
    "        batch_size=20,\n",
    "        class_mode='categorical')\n"
   ]
  },
  {
   "cell_type": "markdown",
   "metadata": {
    "id": "KLQRN9I2UIRV"
   },
   "source": [
    "# **Model Creation**\n",
    "A CNN is made up of multiple layers of neurons, each of which is a nonlinear operation on a linear transformation of the preceding layer's outputs. The layers mainly include convolutional layers and pooling layers. The convolutional layers have weights that need to be trained, while the pooling layers transform the activation using a fixed function.\n",
    "\n",
    "The use of dropout has the benefit of using a combination of different networks in one architecture and preventing units from co-adapting in an excessive way. The dropout function is known to work well in fully-connected layers as well as in pooling layers"
   ]
  },
  {
   "cell_type": "code",
   "execution_count": null,
   "metadata": {
    "execution": {
     "iopub.execute_input": "2021-06-11T07:35:15.598790Z",
     "iopub.status.busy": "2021-06-11T07:35:15.598478Z",
     "iopub.status.idle": "2021-06-11T07:35:15.736666Z",
     "shell.execute_reply": "2021-06-11T07:35:15.735929Z",
     "shell.execute_reply.started": "2021-06-11T07:35:15.598762Z"
    },
    "id": "wRGk5cEfVuOv",
    "outputId": "14b1254d-2ad9-4586-ab1a-095c999c2abc"
   },
   "outputs": [
    {
     "name": "stdout",
     "output_type": "stream",
     "text": [
      "Model: \"model_8\"\n",
      "_________________________________________________________________\n",
      "Layer (type)                 Output Shape              Param #   \n",
      "=================================================================\n",
      "input_9 (InputLayer)         [(None, 150, 150, 3)]     0         \n",
      "_________________________________________________________________\n",
      "conv2d_35 (Conv2D)           (None, 150, 150, 64)      1792      \n",
      "_________________________________________________________________\n",
      "conv2d_36 (Conv2D)           (None, 150, 150, 64)      36928     \n",
      "_________________________________________________________________\n",
      "max_pooling2d_35 (MaxPooling (None, 75, 75, 64)        0         \n",
      "_________________________________________________________________\n",
      "dropout_35 (Dropout)         (None, 75, 75, 64)        0         \n",
      "_________________________________________________________________\n",
      "conv2d_37 (Conv2D)           (None, 75, 75, 128)       73856     \n",
      "_________________________________________________________________\n",
      "conv2d_38 (Conv2D)           (None, 75, 75, 128)       147584    \n",
      "_________________________________________________________________\n",
      "max_pooling2d_36 (MaxPooling (None, 37, 37, 128)       0         \n",
      "_________________________________________________________________\n",
      "dropout_36 (Dropout)         (None, 37, 37, 128)       0         \n",
      "_________________________________________________________________\n",
      "conv2d_39 (Conv2D)           (None, 37, 37, 256)       295168    \n",
      "_________________________________________________________________\n",
      "conv2d_40 (Conv2D)           (None, 37, 37, 256)       590080    \n",
      "_________________________________________________________________\n",
      "max_pooling2d_37 (MaxPooling (None, 18, 18, 256)       0         \n",
      "_________________________________________________________________\n",
      "dropout_37 (Dropout)         (None, 18, 18, 256)       0         \n",
      "_________________________________________________________________\n",
      "conv2d_41 (Conv2D)           (None, 18, 18, 256)       590080    \n",
      "_________________________________________________________________\n",
      "conv2d_42 (Conv2D)           (None, 18, 18, 256)       590080    \n",
      "_________________________________________________________________\n",
      "max_pooling2d_38 (MaxPooling (None, 9, 9, 256)         0         \n",
      "_________________________________________________________________\n",
      "dropout_38 (Dropout)         (None, 9, 9, 256)         0         \n",
      "_________________________________________________________________\n",
      "conv2d_43 (Conv2D)           (None, 9, 9, 512)         1180160   \n",
      "_________________________________________________________________\n",
      "conv2d_44 (Conv2D)           (None, 9, 9, 512)         2359808   \n",
      "_________________________________________________________________\n",
      "max_pooling2d_39 (MaxPooling (None, 4, 4, 512)         0         \n",
      "_________________________________________________________________\n",
      "dropout_39 (Dropout)         (None, 4, 4, 512)         0         \n",
      "_________________________________________________________________\n",
      "flatten_8 (Flatten)          (None, 8192)              0         \n",
      "_________________________________________________________________\n",
      "dense_19 (Dense)             (None, 1024)              8389632   \n",
      "_________________________________________________________________\n",
      "dense_20 (Dense)             (None, 5)                 5125      \n",
      "=================================================================\n",
      "Total params: 14,260,293\n",
      "Trainable params: 14,260,293\n",
      "Non-trainable params: 0\n",
      "_________________________________________________________________\n"
     ]
    }
   ],
   "source": [
    "## Creating the model \n",
    "inputs = tf.keras.layers.Input(shape = (150,150,3,))\n",
    "b1 = tf.keras.layers.Conv2D(filters = 64 , kernel_size = (3,3),padding = 'same',activation = 'relu')(inputs)\n",
    "b1 = tf.keras.layers.Conv2D(filters = 64 , kernel_size = (3,3),padding = 'same',activation = 'relu')(b1)\n",
    "b1 = tf.keras.layers.MaxPool2D(2,2)(b1)\n",
    "b1 = tf.keras.layers.Dropout(0.2)(b1)\n",
    "\n",
    "b2 = tf.keras.layers.Conv2D(filters = 128 , kernel_size = (3,3),padding = 'same',activation = 'relu')(b1)\n",
    "b2 = tf.keras.layers.Conv2D(filters = 128 , kernel_size = (3,3),padding = 'same',activation = 'relu')(b2)\n",
    "b2 = tf.keras.layers.MaxPool2D(2,2)(b2)\n",
    "b2 = tf.keras.layers.Dropout(0.2)(b2)\n",
    "\n",
    "b3 = tf.keras.layers.Conv2D(filters = 256 , kernel_size = (3,3),padding = 'same',activation = 'relu')(b2)\n",
    "b3 = tf.keras.layers.Conv2D(filters = 256 , kernel_size = (3,3),padding = 'same',activation = 'relu')(b3)\n",
    "b3= tf.keras.layers.MaxPool2D(2,2)(b3)\n",
    "b3 = tf.keras.layers.Dropout(0.2)(b3)\n",
    "\n",
    "b4 = tf.keras.layers.Conv2D(filters = 256 , kernel_size = (3,3),padding = 'same',activation = 'relu')(b3)\n",
    "b4 = tf.keras.layers.Conv2D(filters = 256 , kernel_size = (3,3),padding = 'same',activation = 'relu')(b4)\n",
    "b4= tf.keras.layers.MaxPool2D(2,2)(b4)\n",
    "b4 = tf.keras.layers.Dropout(0.2)(b4)\n",
    "\n",
    "b5 = tf.keras.layers.Conv2D(filters = 512 , kernel_size = (3,3),padding = 'same',activation = 'relu')(b4)\n",
    "b5 = tf.keras.layers.Conv2D(filters = 512 , kernel_size = (3,3),padding = 'same',activation = 'relu')(b5)\n",
    "b5= tf.keras.layers.MaxPool2D(2,2)(b5)\n",
    "b5 = tf.keras.layers.Dropout(0.2)(b5)\n",
    "\n",
    "\n",
    "g1 = tf.keras.layers.Flatten()(b5)\n",
    "d1= tf.keras.layers.Dense(1024,activation = 'relu')(g1)\n",
    "d2 = tf.keras.layers.Dense(5,activation = 'softmax')(d1)\n",
    "model = tf.keras.Model(inputs = inputs,outputs = d2)\n",
    "\n",
    "\n",
    "model.compile(optimizer = tf.keras.optimizers.RMSprop(lr = 1e-4),loss = 'categorical_crossentropy',metrics = ['accuracy'])\n",
    "model.summary()\n",
    "\n"
   ]
  },
  {
   "cell_type": "markdown",
   "metadata": {
    "id": "OWEKytosV4Tp"
   },
   "source": [
    "# **Callbacks**\n",
    "\n",
    "When training a machine learning model, we would like to have the ability to monitor the model performance and perform certain actions depending on those performance measures. \n",
    "\n",
    "**CSVLogger**: a callback streams epoch results to a CSV file."
   ]
  },
  {
   "cell_type": "code",
   "execution_count": null,
   "metadata": {
    "execution": {
     "iopub.execute_input": "2021-06-11T07:35:20.410656Z",
     "iopub.status.busy": "2021-06-11T07:35:20.410349Z",
     "iopub.status.idle": "2021-06-11T09:02:47.629740Z",
     "shell.execute_reply": "2021-06-11T09:02:47.628919Z",
     "shell.execute_reply.started": "2021-06-11T07:35:20.410626Z"
    },
    "id": "l4y1JPUJVuOx",
    "outputId": "f8c10183-6fbb-4336-bff4-dcf4eb9e47e4"
   },
   "outputs": [
    {
     "name": "stdout",
     "output_type": "stream",
     "text": [
      "Epoch 1/100\n",
      "55/55 [==============================] - 61s 1s/step - loss: 1.6114 - accuracy: 0.2380 - val_loss: 1.6028 - val_accuracy: 0.2447\n",
      "Epoch 2/100\n",
      "55/55 [==============================] - 53s 961ms/step - loss: 1.6020 - accuracy: 0.2485 - val_loss: 1.5988 - val_accuracy: 0.2447\n",
      "Epoch 3/100\n",
      "55/55 [==============================] - 54s 977ms/step - loss: 1.5943 - accuracy: 0.2557 - val_loss: 1.5939 - val_accuracy: 0.2809\n",
      "Epoch 4/100\n",
      "55/55 [==============================] - 53s 956ms/step - loss: 1.5970 - accuracy: 0.2374 - val_loss: 1.5956 - val_accuracy: 0.2447\n",
      "Epoch 5/100\n",
      "55/55 [==============================] - 52s 945ms/step - loss: 1.5923 - accuracy: 0.2562 - val_loss: 1.5779 - val_accuracy: 0.2872\n",
      "Epoch 6/100\n",
      "55/55 [==============================] - 52s 948ms/step - loss: 1.5946 - accuracy: 0.2470 - val_loss: 1.5680 - val_accuracy: 0.3511\n",
      "Epoch 7/100\n",
      "55/55 [==============================] - 52s 952ms/step - loss: 1.5722 - accuracy: 0.2751 - val_loss: 1.4836 - val_accuracy: 0.3596\n",
      "Epoch 8/100\n",
      "55/55 [==============================] - 52s 955ms/step - loss: 1.5609 - accuracy: 0.2885 - val_loss: 1.3901 - val_accuracy: 0.3723\n",
      "Epoch 9/100\n",
      "55/55 [==============================] - 52s 952ms/step - loss: 1.4690 - accuracy: 0.3748 - val_loss: 1.3458 - val_accuracy: 0.5362\n",
      "Epoch 10/100\n",
      "55/55 [==============================] - 53s 962ms/step - loss: 1.4119 - accuracy: 0.4005 - val_loss: 1.0511 - val_accuracy: 0.6064\n",
      "Epoch 11/100\n",
      "55/55 [==============================] - 53s 959ms/step - loss: 1.3556 - accuracy: 0.4553 - val_loss: 1.1298 - val_accuracy: 0.5894\n",
      "Epoch 12/100\n",
      "55/55 [==============================] - 52s 950ms/step - loss: 1.3320 - accuracy: 0.4575 - val_loss: 0.6802 - val_accuracy: 0.7553\n",
      "Epoch 13/100\n",
      "55/55 [==============================] - 53s 957ms/step - loss: 1.1714 - accuracy: 0.5450 - val_loss: 0.6944 - val_accuracy: 0.7532\n",
      "Epoch 14/100\n",
      "55/55 [==============================] - 53s 957ms/step - loss: 1.1136 - accuracy: 0.5440 - val_loss: 0.5394 - val_accuracy: 0.8064\n",
      "Epoch 15/100\n",
      "55/55 [==============================] - 53s 958ms/step - loss: 1.0245 - accuracy: 0.5872 - val_loss: 0.4586 - val_accuracy: 0.8426\n",
      "Epoch 16/100\n",
      "55/55 [==============================] - 53s 957ms/step - loss: 0.9954 - accuracy: 0.6193 - val_loss: 0.5035 - val_accuracy: 0.8149\n",
      "Epoch 17/100\n",
      "55/55 [==============================] - 53s 951ms/step - loss: 0.9515 - accuracy: 0.6231 - val_loss: 0.5481 - val_accuracy: 0.8234\n",
      "Epoch 18/100\n",
      "55/55 [==============================] - 53s 955ms/step - loss: 0.9173 - accuracy: 0.6590 - val_loss: 0.5612 - val_accuracy: 0.8277\n",
      "Epoch 19/100\n",
      "55/55 [==============================] - 53s 959ms/step - loss: 0.8200 - accuracy: 0.6777 - val_loss: 0.3442 - val_accuracy: 0.8894\n",
      "Epoch 20/100\n",
      "55/55 [==============================] - 53s 959ms/step - loss: 0.8320 - accuracy: 0.6800 - val_loss: 0.3694 - val_accuracy: 0.8787\n",
      "Epoch 21/100\n",
      "55/55 [==============================] - 53s 958ms/step - loss: 0.7692 - accuracy: 0.7067 - val_loss: 0.3192 - val_accuracy: 0.8787\n",
      "Epoch 22/100\n",
      "55/55 [==============================] - 52s 950ms/step - loss: 0.6925 - accuracy: 0.7388 - val_loss: 0.3307 - val_accuracy: 0.8574\n",
      "Epoch 23/100\n",
      "55/55 [==============================] - 53s 969ms/step - loss: 0.7076 - accuracy: 0.7498 - val_loss: 0.2540 - val_accuracy: 0.9128\n",
      "Epoch 24/100\n",
      "55/55 [==============================] - 52s 950ms/step - loss: 0.7274 - accuracy: 0.7493 - val_loss: 0.2684 - val_accuracy: 0.8979\n",
      "Epoch 25/100\n",
      "55/55 [==============================] - 52s 957ms/step - loss: 0.6612 - accuracy: 0.7794 - val_loss: 0.2695 - val_accuracy: 0.9149\n",
      "Epoch 26/100\n",
      "55/55 [==============================] - 52s 949ms/step - loss: 0.6806 - accuracy: 0.7552 - val_loss: 0.2646 - val_accuracy: 0.8957\n",
      "Epoch 27/100\n",
      "55/55 [==============================] - 53s 960ms/step - loss: 0.6029 - accuracy: 0.8063 - val_loss: 0.2710 - val_accuracy: 0.8894\n",
      "Epoch 28/100\n",
      "55/55 [==============================] - 52s 951ms/step - loss: 0.6399 - accuracy: 0.7727 - val_loss: 0.2369 - val_accuracy: 0.9128\n",
      "Epoch 29/100\n",
      "55/55 [==============================] - 52s 956ms/step - loss: 0.6856 - accuracy: 0.7695 - val_loss: 0.4155 - val_accuracy: 0.8553\n",
      "Epoch 30/100\n",
      "55/55 [==============================] - 53s 963ms/step - loss: 0.6175 - accuracy: 0.7881 - val_loss: 0.2082 - val_accuracy: 0.9277\n",
      "Epoch 31/100\n",
      "55/55 [==============================] - 54s 971ms/step - loss: 0.5838 - accuracy: 0.7965 - val_loss: 0.1904 - val_accuracy: 0.9489\n",
      "Epoch 32/100\n",
      "55/55 [==============================] - 53s 969ms/step - loss: 0.5512 - accuracy: 0.8127 - val_loss: 0.2249 - val_accuracy: 0.9255\n",
      "Epoch 33/100\n",
      "55/55 [==============================] - 52s 951ms/step - loss: 0.5471 - accuracy: 0.8160 - val_loss: 0.2448 - val_accuracy: 0.9043\n",
      "Epoch 34/100\n",
      "55/55 [==============================] - 53s 971ms/step - loss: 0.4917 - accuracy: 0.8213 - val_loss: 0.2785 - val_accuracy: 0.8979\n",
      "Epoch 35/100\n",
      "55/55 [==============================] - 52s 947ms/step - loss: 0.4913 - accuracy: 0.8346 - val_loss: 0.1724 - val_accuracy: 0.9340\n",
      "Epoch 36/100\n",
      "55/55 [==============================] - 53s 957ms/step - loss: 0.4739 - accuracy: 0.8534 - val_loss: 0.2407 - val_accuracy: 0.9170\n",
      "Epoch 37/100\n",
      "55/55 [==============================] - 52s 949ms/step - loss: 0.4919 - accuracy: 0.8355 - val_loss: 0.2819 - val_accuracy: 0.9128\n",
      "Epoch 38/100\n",
      "55/55 [==============================] - 53s 948ms/step - loss: 0.5122 - accuracy: 0.8174 - val_loss: 0.2334 - val_accuracy: 0.9064\n",
      "Epoch 39/100\n",
      "55/55 [==============================] - 52s 954ms/step - loss: 0.4741 - accuracy: 0.8378 - val_loss: 0.1702 - val_accuracy: 0.9319\n",
      "Epoch 40/100\n",
      "55/55 [==============================] - 52s 955ms/step - loss: 0.4482 - accuracy: 0.8344 - val_loss: 0.1733 - val_accuracy: 0.9404\n",
      "Epoch 41/100\n",
      "55/55 [==============================] - 53s 958ms/step - loss: 0.4390 - accuracy: 0.8397 - val_loss: 0.1806 - val_accuracy: 0.9404\n",
      "Epoch 42/100\n",
      "55/55 [==============================] - 53s 961ms/step - loss: 0.4152 - accuracy: 0.8652 - val_loss: 0.2337 - val_accuracy: 0.9277\n",
      "Epoch 43/100\n",
      "55/55 [==============================] - 52s 937ms/step - loss: 0.4097 - accuracy: 0.8621 - val_loss: 0.1803 - val_accuracy: 0.9383\n",
      "Epoch 44/100\n",
      "55/55 [==============================] - 52s 948ms/step - loss: 0.4510 - accuracy: 0.8539 - val_loss: 0.2025 - val_accuracy: 0.9426\n",
      "Epoch 45/100\n",
      "55/55 [==============================] - 53s 957ms/step - loss: 0.3415 - accuracy: 0.8645 - val_loss: 0.1529 - val_accuracy: 0.9489\n",
      "Epoch 46/100\n",
      "55/55 [==============================] - 52s 954ms/step - loss: 0.3981 - accuracy: 0.8545 - val_loss: 0.2018 - val_accuracy: 0.9426\n",
      "Epoch 47/100\n",
      "55/55 [==============================] - 52s 938ms/step - loss: 0.3470 - accuracy: 0.8957 - val_loss: 0.3875 - val_accuracy: 0.8894\n",
      "Epoch 48/100\n",
      "55/55 [==============================] - 53s 960ms/step - loss: 0.2963 - accuracy: 0.8917 - val_loss: 0.1775 - val_accuracy: 0.9213\n",
      "Epoch 49/100\n",
      "55/55 [==============================] - 52s 944ms/step - loss: 0.3732 - accuracy: 0.8757 - val_loss: 0.1915 - val_accuracy: 0.9553\n",
      "Epoch 50/100\n",
      "55/55 [==============================] - 52s 946ms/step - loss: 0.3687 - accuracy: 0.8798 - val_loss: 0.1568 - val_accuracy: 0.9468\n",
      "Epoch 51/100\n",
      "55/55 [==============================] - 52s 950ms/step - loss: 0.3296 - accuracy: 0.8973 - val_loss: 0.1717 - val_accuracy: 0.9404\n",
      "Epoch 52/100\n",
      "55/55 [==============================] - 52s 943ms/step - loss: 0.3259 - accuracy: 0.8999 - val_loss: 0.1464 - val_accuracy: 0.9468\n",
      "Epoch 53/100\n",
      "55/55 [==============================] - 53s 958ms/step - loss: 0.2741 - accuracy: 0.9042 - val_loss: 0.1851 - val_accuracy: 0.9340\n",
      "Epoch 54/100\n",
      "55/55 [==============================] - 52s 945ms/step - loss: 0.2888 - accuracy: 0.9038 - val_loss: 0.1403 - val_accuracy: 0.9489\n",
      "Epoch 55/100\n",
      "55/55 [==============================] - 53s 949ms/step - loss: 0.2987 - accuracy: 0.9003 - val_loss: 0.1522 - val_accuracy: 0.9511\n",
      "Epoch 56/100\n",
      "55/55 [==============================] - 53s 961ms/step - loss: 0.2805 - accuracy: 0.9001 - val_loss: 0.1457 - val_accuracy: 0.9532\n",
      "Epoch 57/100\n",
      "55/55 [==============================] - 52s 948ms/step - loss: 0.2750 - accuracy: 0.9139 - val_loss: 0.1788 - val_accuracy: 0.9426\n",
      "Epoch 58/100\n",
      "55/55 [==============================] - 52s 952ms/step - loss: 0.3480 - accuracy: 0.8779 - val_loss: 0.1974 - val_accuracy: 0.9340\n",
      "Epoch 59/100\n",
      "55/55 [==============================] - 52s 956ms/step - loss: 0.3549 - accuracy: 0.8748 - val_loss: 0.1826 - val_accuracy: 0.9404\n",
      "Epoch 60/100\n",
      "55/55 [==============================] - 52s 950ms/step - loss: 0.2674 - accuracy: 0.9098 - val_loss: 0.1481 - val_accuracy: 0.9468\n",
      "Epoch 61/100\n",
      "55/55 [==============================] - 53s 958ms/step - loss: 0.2394 - accuracy: 0.9147 - val_loss: 0.1584 - val_accuracy: 0.9532\n",
      "Epoch 62/100\n",
      "55/55 [==============================] - 53s 954ms/step - loss: 0.2194 - accuracy: 0.9295 - val_loss: 0.3261 - val_accuracy: 0.9191\n",
      "Epoch 63/100\n",
      "55/55 [==============================] - 52s 945ms/step - loss: 0.2885 - accuracy: 0.8975 - val_loss: 0.1412 - val_accuracy: 0.9468\n",
      "Epoch 64/100\n",
      "55/55 [==============================] - 52s 947ms/step - loss: 0.2501 - accuracy: 0.9096 - val_loss: 0.1641 - val_accuracy: 0.9489\n",
      "Epoch 65/100\n",
      "55/55 [==============================] - 52s 946ms/step - loss: 0.2289 - accuracy: 0.9304 - val_loss: 0.1331 - val_accuracy: 0.9511\n",
      "Epoch 66/100\n",
      "55/55 [==============================] - 52s 948ms/step - loss: 0.2205 - accuracy: 0.9327 - val_loss: 0.1529 - val_accuracy: 0.9532\n",
      "Epoch 67/100\n",
      "55/55 [==============================] - 51s 938ms/step - loss: 0.2219 - accuracy: 0.9278 - val_loss: 0.1785 - val_accuracy: 0.9511\n",
      "Epoch 68/100\n",
      "55/55 [==============================] - 53s 963ms/step - loss: 0.2054 - accuracy: 0.9405 - val_loss: 0.1441 - val_accuracy: 0.9468\n",
      "Epoch 69/100\n",
      "55/55 [==============================] - 52s 953ms/step - loss: 0.2204 - accuracy: 0.9341 - val_loss: 0.1888 - val_accuracy: 0.9489\n",
      "Epoch 70/100\n",
      "55/55 [==============================] - 51s 935ms/step - loss: 0.2407 - accuracy: 0.9169 - val_loss: 0.1453 - val_accuracy: 0.9617\n",
      "Epoch 71/100\n",
      "55/55 [==============================] - 52s 942ms/step - loss: 0.2038 - accuracy: 0.9365 - val_loss: 0.1383 - val_accuracy: 0.9574\n",
      "Epoch 72/100\n",
      "55/55 [==============================] - 52s 945ms/step - loss: 0.1641 - accuracy: 0.9510 - val_loss: 0.1344 - val_accuracy: 0.9596\n",
      "Epoch 73/100\n",
      "55/55 [==============================] - 51s 938ms/step - loss: 0.2029 - accuracy: 0.9350 - val_loss: 0.1726 - val_accuracy: 0.9574\n",
      "Epoch 74/100\n",
      "55/55 [==============================] - 52s 949ms/step - loss: 0.1795 - accuracy: 0.9384 - val_loss: 0.2407 - val_accuracy: 0.9362\n",
      "Epoch 75/100\n",
      "55/55 [==============================] - 53s 957ms/step - loss: 0.2077 - accuracy: 0.9431 - val_loss: 0.1446 - val_accuracy: 0.9553\n",
      "Epoch 76/100\n",
      "55/55 [==============================] - 51s 933ms/step - loss: 0.1791 - accuracy: 0.9468 - val_loss: 0.2071 - val_accuracy: 0.9362\n",
      "Epoch 77/100\n",
      "55/55 [==============================] - 52s 948ms/step - loss: 0.1795 - accuracy: 0.9427 - val_loss: 0.1099 - val_accuracy: 0.9660\n",
      "Epoch 78/100\n",
      "55/55 [==============================] - 52s 949ms/step - loss: 0.1553 - accuracy: 0.9470 - val_loss: 0.1716 - val_accuracy: 0.9426\n",
      "Epoch 79/100\n",
      "55/55 [==============================] - 52s 946ms/step - loss: 0.1434 - accuracy: 0.9463 - val_loss: 0.2038 - val_accuracy: 0.9340\n",
      "Epoch 80/100\n",
      "55/55 [==============================] - 51s 952ms/step - loss: 0.2678 - accuracy: 0.9090 - val_loss: 0.1857 - val_accuracy: 0.9532\n",
      "Epoch 81/100\n",
      "55/55 [==============================] - 52s 945ms/step - loss: 0.1932 - accuracy: 0.9406 - val_loss: 0.2230 - val_accuracy: 0.9404\n",
      "Epoch 82/100\n",
      "55/55 [==============================] - 51s 930ms/step - loss: 0.1986 - accuracy: 0.9367 - val_loss: 0.1844 - val_accuracy: 0.9468\n",
      "Epoch 83/100\n",
      "55/55 [==============================] - 52s 939ms/step - loss: 0.2168 - accuracy: 0.9304 - val_loss: 0.1687 - val_accuracy: 0.9596\n",
      "Epoch 84/100\n",
      "55/55 [==============================] - 52s 946ms/step - loss: 0.1540 - accuracy: 0.9641 - val_loss: 0.1848 - val_accuracy: 0.9574\n",
      "Epoch 85/100\n",
      "55/55 [==============================] - 52s 943ms/step - loss: 0.1266 - accuracy: 0.9595 - val_loss: 0.1785 - val_accuracy: 0.9553\n",
      "Epoch 86/100\n",
      "55/55 [==============================] - 52s 945ms/step - loss: 0.1888 - accuracy: 0.9355 - val_loss: 0.1629 - val_accuracy: 0.9532\n",
      "Epoch 87/100\n",
      "55/55 [==============================] - 52s 937ms/step - loss: 0.1322 - accuracy: 0.9543 - val_loss: 0.3287 - val_accuracy: 0.9213\n",
      "Epoch 88/100\n",
      "55/55 [==============================] - 52s 945ms/step - loss: 0.1651 - accuracy: 0.9413 - val_loss: 0.2240 - val_accuracy: 0.9383\n",
      "Epoch 89/100\n",
      "55/55 [==============================] - 52s 948ms/step - loss: 0.1367 - accuracy: 0.9450 - val_loss: 0.2320 - val_accuracy: 0.9447\n",
      "Epoch 90/100\n",
      "55/55 [==============================] - 52s 940ms/step - loss: 0.1812 - accuracy: 0.9384 - val_loss: 0.1486 - val_accuracy: 0.9617\n",
      "Epoch 91/100\n",
      "55/55 [==============================] - 52s 948ms/step - loss: 0.1232 - accuracy: 0.9626 - val_loss: 0.2425 - val_accuracy: 0.9489\n",
      "Epoch 92/100\n",
      "55/55 [==============================] - 52s 948ms/step - loss: 0.1617 - accuracy: 0.9491 - val_loss: 0.2505 - val_accuracy: 0.9426\n",
      "Epoch 93/100\n",
      "55/55 [==============================] - 53s 959ms/step - loss: 0.1182 - accuracy: 0.9531 - val_loss: 0.1752 - val_accuracy: 0.9596\n",
      "Epoch 94/100\n",
      "55/55 [==============================] - 52s 949ms/step - loss: 0.0970 - accuracy: 0.9634 - val_loss: 0.2216 - val_accuracy: 0.9511\n",
      "Epoch 95/100\n",
      "55/55 [==============================] - 52s 956ms/step - loss: 0.1933 - accuracy: 0.9423 - val_loss: 0.2658 - val_accuracy: 0.9447\n",
      "Epoch 96/100\n",
      "55/55 [==============================] - 53s 957ms/step - loss: 0.1096 - accuracy: 0.9573 - val_loss: 0.1796 - val_accuracy: 0.9617\n",
      "Epoch 97/100\n",
      "55/55 [==============================] - 53s 958ms/step - loss: 0.1645 - accuracy: 0.9537 - val_loss: 0.1606 - val_accuracy: 0.9553\n",
      "Epoch 98/100\n",
      "55/55 [==============================] - 52s 951ms/step - loss: 0.1111 - accuracy: 0.9678 - val_loss: 0.1889 - val_accuracy: 0.9638\n",
      "Epoch 99/100\n",
      "55/55 [==============================] - 53s 958ms/step - loss: 0.1720 - accuracy: 0.9438 - val_loss: 0.1894 - val_accuracy: 0.9596\n",
      "Epoch 100/100\n",
      "55/55 [==============================] - 52s 940ms/step - loss: 0.1081 - accuracy: 0.9708 - val_loss: 0.2431 - val_accuracy: 0.9489\n"
     ]
    }
   ],
   "source": [
    "## training the model\n",
    "history = model.fit(train_generator,\n",
    "                    epochs = 100,\n",
    "                    validation_data = validation_generator,\n",
    "                    callbacks = [tf.keras.callbacks.CSVLogger('training.csv')]\n",
    "                   )"
   ]
  },
  {
   "cell_type": "code",
   "execution_count": null,
   "metadata": {
    "execution": {
     "iopub.execute_input": "2021-06-11T09:02:53.581457Z",
     "iopub.status.busy": "2021-06-11T09:02:53.581122Z",
     "iopub.status.idle": "2021-06-11T09:02:53.837300Z",
     "shell.execute_reply": "2021-06-11T09:02:53.836252Z",
     "shell.execute_reply.started": "2021-06-11T09:02:53.581427Z"
    },
    "id": "8nDH1qxIVuOy"
   },
   "outputs": [],
   "source": [
    "model.save('model.h5')"
   ]
  },
  {
   "cell_type": "code",
   "execution_count": null,
   "metadata": {
    "execution": {
     "iopub.execute_input": "2021-06-11T09:04:58.767658Z",
     "iopub.status.busy": "2021-06-11T09:04:58.767226Z",
     "iopub.status.idle": "2021-06-11T09:04:59.162511Z",
     "shell.execute_reply": "2021-06-11T09:04:59.161743Z",
     "shell.execute_reply.started": "2021-06-11T09:04:58.767620Z"
    },
    "id": "q00B7XFnVuOz",
    "outputId": "0502b7bc-b3d2-49d1-dff5-3c9e3c8d806f"
   },
   "outputs": [
    {
     "data": {
      "image/png": "[encoded data removed]",
      "text/plain": [
       "<Figure size 432x288 with 1 Axes>"
      ]
     },
     "metadata": {
      "needs_background": "light",
      "tags": []
     },
     "output_type": "display_data"
    },
    {
     "data": {
      "image/png": "[encoded data removed]",
      "text/plain": [
       "<Figure size 432x288 with 1 Axes>"
      ]
     },
     "metadata": {
      "needs_background": "light",
      "tags": []
     },
     "output_type": "display_data"
    }
   ],
   "source": [
    "## Visualising the Accuracy and loss plots\n",
    "\n",
    "callback_csv = pd.read_csv('./training.csv')\n",
    "acc = callback_csv['accuracy']\n",
    "val_acc = callback_csv['val_accuracy']\n",
    "loss = callback_csv['loss']\n",
    "val_loss = callback_csv['val_loss']\n",
    "\n",
    "epochs = range(len(acc))\n",
    "\n",
    "plt.plot(epochs, acc, 'bo', label='Training accuracy')\n",
    "plt.plot(epochs, val_acc, 'b', label='Validation accuracy')\n",
    "plt.title('Training and validation accuracy')\n",
    "\n",
    "plt.figure()\n",
    "\n",
    "plt.plot(epochs, loss, 'bo', label='Training Loss')\n",
    "plt.plot(epochs, val_loss, 'b', label='Validation Loss')\n",
    "plt.title('Training and validation loss')\n",
    "plt.legend()\n",
    "\n",
    "plt.show()"
   ]
  },
  {
   "cell_type": "code",
   "execution_count": null,
   "metadata": {
    "execution": {
     "iopub.execute_input": "2021-06-11T09:05:27.869384Z",
     "iopub.status.busy": "2021-06-11T09:05:27.869059Z",
     "iopub.status.idle": "2021-06-11T09:05:28.031498Z",
     "shell.execute_reply": "2021-06-11T09:05:28.030723Z",
     "shell.execute_reply.started": "2021-06-11T09:05:27.869357Z"
    },
    "id": "1QkHvxavVuO0",
    "outputId": "151f6270-167b-4d28-84fb-2d327ed6e264"
   },
   "outputs": [
    {
     "data": {
      "text/plain": [
       "<matplotlib.image.AxesImage at 0x7f0c043d6050>"
      ]
     },
     "execution_count": 41,
     "metadata": {
      "tags": []
     },
     "output_type": "execute_result"
    },
    {
     "data": {
      "image/png": "[encoded data removed]",
      "text/plain": [
       "<Figure size 432x288 with 1 Axes>"
      ]
     },
     "metadata": {
      "needs_background": "light",
      "tags": []
     },
     "output_type": "display_data"
    }
   ],
   "source": [
    "image = cv2.imread('../input/yoga-poses-dataset/DATASET/TEST/goddess/00000001.jpg')\n",
    "\n",
    "image = cv2.resize(image,(150,150))\n",
    "\n",
    "image = np.array(image)\n",
    "\n",
    "plt.imshow(image)"
   ]
  },
  {
   "cell_type": "code",
   "execution_count": null,
   "metadata": {
    "execution": {
     "iopub.execute_input": "2021-06-11T09:05:31.322784Z",
     "iopub.status.busy": "2021-06-11T09:05:31.322460Z",
     "iopub.status.idle": "2021-06-11T09:05:31.337312Z",
     "shell.execute_reply": "2021-06-11T09:05:31.336564Z",
     "shell.execute_reply.started": "2021-06-11T09:05:31.322753Z"
    },
    "id": "tyNTvIMlVuO1",
    "outputId": "7bc04fb0-3539-46bc-b1db-e9b9e3b15e1d"
   },
   "outputs": [
    {
     "data": {
      "text/plain": [
       "(1, 150, 150, 3)"
      ]
     },
     "execution_count": 42,
     "metadata": {
      "tags": []
     },
     "output_type": "execute_result"
    }
   ],
   "source": [
    "## Testing with an example\n",
    "\n",
    "image = cv2.imread('../input/yoga-poses-dataset/DATASET/TEST/goddess/00000001.jpg')\n",
    "\n",
    "image = cv2.resize(image,(150,150))\n",
    "\n",
    "image = np.array(image)\n",
    "\n",
    "image = image.reshape(1,150,150,3)\n",
    "\n",
    "image.shape\n",
    "\n"
   ]
  },
  {
   "cell_type": "markdown",
   "metadata": {
    "id": "xxOkpvwHWLYM"
   },
   "source": [
    "When predicting, you have to respect this shape even if you have only one image. Your input should be of shape: **[1, image_width, image_height, number_of_channels]**"
   ]
  },
  {
   "cell_type": "code",
   "execution_count": null,
   "metadata": {
    "execution": {
     "iopub.execute_input": "2021-06-11T09:05:36.466762Z",
     "iopub.status.busy": "2021-06-11T09:05:36.466426Z",
     "iopub.status.idle": "2021-06-11T09:05:36.471871Z",
     "shell.execute_reply": "2021-06-11T09:05:36.470862Z",
     "shell.execute_reply.started": "2021-06-11T09:05:36.466730Z"
    },
    "id": "hwDlkgxOVuO2"
   },
   "outputs": [],
   "source": [
    "# Converting the one hot encoded output to display the output class\n",
    "\n",
    "dict  = {1: 'Downdog', 2: 'Goddess', 3: 'Plank',4: 'Tree',5: 'Warrior2'}\n",
    "\n",
    "def out_conversion(out_array):\n",
    "    for i in range(5):\n",
    "        if out_array[i] == 1.:\n",
    "            return dict[i+1]\n",
    "        "
   ]
  },
  {
   "cell_type": "code",
   "execution_count": null,
   "metadata": {
    "execution": {
     "iopub.execute_input": "2021-06-11T09:05:37.738775Z",
     "iopub.status.busy": "2021-06-11T09:05:37.738371Z",
     "iopub.status.idle": "2021-06-11T09:05:38.244058Z",
     "shell.execute_reply": "2021-06-11T09:05:38.243240Z",
     "shell.execute_reply.started": "2021-06-11T09:05:37.738737Z"
    },
    "id": "A5qiLH-0VuO2",
    "outputId": "2d7fffef-1db9-4009-8e31-0f352a3ec246"
   },
   "outputs": [
    {
     "name": "stdout",
     "output_type": "stream",
     "text": [
      "Predicted class is : Goddess\n"
     ]
    }
   ],
   "source": [
    "model = tf.keras.models.load_model('./model.h5')\n",
    "out_arr = model.predict(image)[0]\n",
    "print(f'Predicted class is : {out_conversion(out_arr)}')"
   ]
  },
  {
   "cell_type": "code",
   "execution_count": null,
   "metadata": {
    "id": "WLna_ZkNVuO3"
   },
   "outputs": [],
   "source": []
  }
 ],
 "metadata": {
  "colab": {
   "name": "yoga_pose12s.ipynb",
   "provenance": []
  },
  "kernelspec": {
   "display_name": "Python 3",
   "language": "python",
   "name": "python3"
  },
  "language_info": {
   "codemirror_mode": {
    "name": "ipython",
    "version": 3
   },
   "file_extension": ".py",
   "mimetype": "text/x-python",
   "name": "python",
   "nbconvert_exporter": "python",
   "pygments_lexer": "ipython3",
   "version": "3.8.5"
  }
 },
 "nbformat": 4,
 "nbformat_minor": 1
}
